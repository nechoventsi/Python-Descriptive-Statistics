{
 "cells": [
  {
   "cell_type": "markdown",
   "metadata": {},
   "source": [
    "# Descriptive Statistics and the Least Squares Method using Python\n",
    "\n",
    "*Ventsislav Dimitrov*  \n",
    "*University of Sofia \"St. Klimen Ohridski\"*  \n",
    "*Faculty of Physics, Department of Astronomy*  \n",
    "\n",
    "In the theory of probability and statistics the concepts of mean and mathematical expectation are often used as synonyms, for the assessment of central tendency in a probability distribution, or in the values of a random variable which is characterized in that distribution. On the other hand, in order to evaluate the noise in the data or deviations of that data from the central average value, we can use statistical estimates by variation, dispersion or standard deviation. When looking for a correlation between variables in an astronomical excerpt or database, we usually resort to the use of the correlation coefficient *r* or to the application of a linear / non-linear regression.\n",
    "\n",
    "Such statistical evaluations are applied in virtually all areas of science, where astronomy is no exception. The methods described in this project could be used to define the statistical properties of astronomical catalogs or experimentally derived data from an observational program. Of course, most of these formulas are usually implemented in the software that we use to analyze the data, but the aim of the current project is to show the possible implementations of these methods in Python using *lists*, *conditional blocks*, *iteration*, *reading and writing* a file, etc.\n",
    "\n",
    "## Descriptive Statistics\n",
    "\n",
    "Writing a program that takes tabular data from a file and calculates the following statistical estimates:\n",
    "\n",
    "* Generalized mean:"
   ]
  },
  {
   "cell_type": "markdown",
   "metadata": {},
   "source": [
    "$$ \\bar{x}(m) = \\left(\\frac{1}{n} \\sum_{i=1}^{n}{x_i^m}\\right)^{\\frac{1}{m}} $$"
   ]
  },
  {
   "cell_type": "markdown",
   "metadata": {},
   "source": [
    "Here *m* is the exponent that shows what type of mean we will calculate:\n",
    "\n",
    "*m = 1* - arithmetic  \n",
    "*m = 2* - quadratic  \n",
    "*m = -1* - harmonic  "
   ]
  },
  {
   "cell_type": "markdown",
   "metadata": {},
   "source": [
    "* Variance:"
   ]
  },
  {
   "cell_type": "markdown",
   "metadata": {},
   "source": [
    "$$ \\sigma_x^2 = \\frac{1}{n-1} \\sum_{i=1}^{n}{(x_i - \\bar{x})^2} $$"
   ]
  },
  {
   "cell_type": "markdown",
   "metadata": {},
   "source": [
    "* Covariance:"
   ]
  },
  {
   "cell_type": "markdown",
   "metadata": {},
   "source": [
    "$$ Cov(x,y) = \\frac{1}{n-1}\\sum_{i=1}^{n}{(x_i - \\bar{x})(y_i - \\bar{y}) } $$"
   ]
  },
  {
   "cell_type": "markdown",
   "metadata": {},
   "source": [
    "To start off, we need to import some modules into Python for our calculations to work:"
   ]
  },
  {
   "cell_type": "code",
   "execution_count": 4,
   "metadata": {
    "collapsed": false
   },
   "outputs": [],
   "source": [
    "import numpy as np\n",
    "from scipy import stats\n",
    "import matplotlib.pyplot as plt\n",
    "%matplotlib inline"
   ]
  },
  {
   "cell_type": "markdown",
   "metadata": {},
   "source": [
    "Now we have to define our own functions for the formulas mentioned above:"
   ]
  },
  {
   "cell_type": "code",
   "execution_count": 5,
   "metadata": {
    "collapsed": true
   },
   "outputs": [],
   "source": [
    "def genMean(x, m):\n",
    "\n",
    "    \"\"\" Calculation of a generalized mean \"\"\"\n",
    "\n",
    "    S = 0\n",
    "\n",
    "    for value in x:\n",
    "        mean = value**m\n",
    "        S += mean\n",
    "\n",
    "    mean_x = (1./len(x) * S)**(1./m)\n",
    "\n",
    "    return mean_x\n",
    "\n",
    "################################\n",
    "\n",
    "def residual(x):\n",
    "    \n",
    "    \"\"\" Calculate the residual (x_i - mean_x) \"\"\"\n",
    "    \n",
    "    res = []\n",
    "    \n",
    "    for value in x:\n",
    "        res.append(value - mean_x)\n",
    "    \n",
    "    return res\n",
    "\n",
    "################################\n",
    "\n",
    "def variance(x):\n",
    "    \n",
    "    \"\"\" Calculate the variance of x \"\"\"\n",
    "\n",
    "    S = 0\n",
    "\n",
    "    for value in x:\n",
    "        sigma = (value - mean_x)**2\n",
    "        S += sigma\n",
    "\n",
    "    var = (1./(len(x)-1)) * S\n",
    "\n",
    "    return var\n",
    "\n",
    "################################\n",
    "\n",
    "def covariance(x, y):\n",
    "    \n",
    "    \"\"\" Calculate the covariance of x \"\"\"\n",
    "    \n",
    "    if len(x) != len(y):\n",
    "        print \"X and Y arrays MUST have equal lenght!\"\n",
    "        return\n",
    "    \n",
    "    n = len(x)\n",
    "    \n",
    "#    x_bar = mySum(x)/n\n",
    "#    y_bar = mySum(y)/n\n",
    "\n",
    "    S = 0\n",
    "    \n",
    "    res_x = residual(x)\n",
    "    res_y = residual(y)\n",
    "    \n",
    "    for i in range(n):\n",
    "        S += res_x[i] * res_y[i]\n",
    "    \n",
    "    return (1./(n-1)) * S"
   ]
  },
  {
   "cell_type": "markdown",
   "metadata": {},
   "source": [
    "Now we unpack the data file using NumPy:"
   ]
  },
  {
   "cell_type": "code",
   "execution_count": 8,
   "metadata": {
    "collapsed": false
   },
   "outputs": [],
   "source": [
    "M, Merr, V = np.loadtxt(\"Data/velocity_luminosity.txt\", usecols=(1, 2, 3), unpack=True, skiprows=1)"
   ]
  },
  {
   "cell_type": "markdown",
   "metadata": {},
   "source": [
    "Then we ask the user for input (the type of mean):"
   ]
  },
  {
   "cell_type": "code",
   "execution_count": 10,
   "metadata": {
    "collapsed": false,
    "scrolled": true
   },
   "outputs": [
    {
     "name": "stdout",
     "output_type": "stream",
     "text": [
      "Mean type? \n",
      " 1: arritmetic \n",
      " 2: quadratic \n",
      " -1: harmonic \n",
      "1\n",
      "\n"
     ]
    }
   ],
   "source": [
    "m = raw_input(\"Mean type? \\n 1: arritmetic \\n 2: quadratic \\n -1: harmonic \\n\")\n",
    "m = int(m)"
   ]
  },
  {
   "cell_type": "markdown",
   "metadata": {},
   "source": [
    "And we calculate *mean*, *variance* and *covariance*:"
   ]
  },
  {
   "cell_type": "code",
   "execution_count": 11,
   "metadata": {
    "collapsed": false
   },
   "outputs": [
    {
     "name": "stdout",
     "output_type": "stream",
     "text": [
      "Generalized mean of M: -20.4133333333\n",
      "Variance of M:"
     ]
    },
    {
     "ename": "NameError",
     "evalue": "global name 'mean_x' is not defined",
     "output_type": "error",
     "traceback": [
      "\u001b[1;31m---------------------------------------------------------------------------\u001b[0m",
      "\u001b[1;31mNameError\u001b[0m                                 Traceback (most recent call last)",
      "\u001b[1;32m<ipython-input-11-2a022a767e5a>\u001b[0m in \u001b[0;36m<module>\u001b[1;34m()\u001b[0m\n\u001b[0;32m      1\u001b[0m \u001b[1;32mprint\u001b[0m \u001b[1;34m\"Generalized mean of M:\"\u001b[0m\u001b[1;33m,\u001b[0m \u001b[0mgenMean\u001b[0m\u001b[1;33m(\u001b[0m\u001b[0mM\u001b[0m\u001b[1;33m,\u001b[0m \u001b[0mm\u001b[0m\u001b[1;33m)\u001b[0m\u001b[1;33m\u001b[0m\u001b[0m\n\u001b[0;32m      2\u001b[0m \u001b[1;33m\u001b[0m\u001b[0m\n\u001b[1;32m----> 3\u001b[1;33m \u001b[1;32mprint\u001b[0m \u001b[1;34m\"Variance of M:\"\u001b[0m\u001b[1;33m,\u001b[0m \u001b[0mvariance\u001b[0m\u001b[1;33m(\u001b[0m\u001b[0mM\u001b[0m\u001b[1;33m)\u001b[0m\u001b[1;33m\u001b[0m\u001b[0m\n\u001b[0m\u001b[0;32m      4\u001b[0m \u001b[1;33m\u001b[0m\u001b[0m\n\u001b[0;32m      5\u001b[0m \u001b[1;32mprint\u001b[0m \u001b[1;34m\"Covariance of M and V:\"\u001b[0m\u001b[1;33m,\u001b[0m \u001b[0mcovariance\u001b[0m\u001b[1;33m(\u001b[0m\u001b[0mM\u001b[0m\u001b[1;33m,\u001b[0m \u001b[0mV\u001b[0m\u001b[1;33m)\u001b[0m\u001b[1;33m\u001b[0m\u001b[0m\n",
      "\u001b[1;32m<ipython-input-5-3afbff24eeaa>\u001b[0m in \u001b[0;36mvariance\u001b[1;34m(x)\u001b[0m\n\u001b[0;32m     35\u001b[0m \u001b[1;33m\u001b[0m\u001b[0m\n\u001b[0;32m     36\u001b[0m     \u001b[1;32mfor\u001b[0m \u001b[0mvalue\u001b[0m \u001b[1;32min\u001b[0m \u001b[0mx\u001b[0m\u001b[1;33m:\u001b[0m\u001b[1;33m\u001b[0m\u001b[0m\n\u001b[1;32m---> 37\u001b[1;33m         \u001b[0msigma\u001b[0m \u001b[1;33m=\u001b[0m \u001b[1;33m(\u001b[0m\u001b[0mvalue\u001b[0m \u001b[1;33m-\u001b[0m \u001b[0mmean_x\u001b[0m\u001b[1;33m)\u001b[0m\u001b[1;33m**\u001b[0m\u001b[1;36m2\u001b[0m\u001b[1;33m\u001b[0m\u001b[0m\n\u001b[0m\u001b[0;32m     38\u001b[0m         \u001b[0mS\u001b[0m \u001b[1;33m+=\u001b[0m \u001b[0msigma\u001b[0m\u001b[1;33m\u001b[0m\u001b[0m\n\u001b[0;32m     39\u001b[0m \u001b[1;33m\u001b[0m\u001b[0m\n",
      "\u001b[1;31mNameError\u001b[0m: global name 'mean_x' is not defined"
     ]
    }
   ],
   "source": [
    "print \"Generalized mean of M:\", genMean(M, m)\n",
    "\n",
    "print \"Variance of M:\", variance(M)\n",
    "\n",
    "print \"Covariance of M and V:\", covariance(M, V)"
   ]
  },
  {
   "cell_type": "code",
   "execution_count": 12,
   "metadata": {
    "collapsed": false,
    "scrolled": false
   },
   "outputs": [
    {
     "data": {
      "text/plain": [
       "<matplotlib.text.Text at 0x7fd2ba37b690>"
      ]
     },
     "execution_count": 12,
     "metadata": {},
     "output_type": "execute_result"
    },
    {
     "name": "stdout",
     "output_type": "stream",
     "text": [
      "\n"
     ]
    },
    {
     "data": {
      "image/png": "[encoded data removed]",
      "text/plain": [
       "<matplotlib.figure.Figure at 0x7fd2ba453450>"
      ]
     },
     "metadata": {},
     "output_type": "display_data"
    }
   ],
   "source": [
    "M, Merr, V = np.loadtxt(\"Data/velocity_luminosity.txt\", usecols=(1, 2, 3), unpack=True, skiprows=1)\n",
    "\n",
    "logV = np.log10(V)\n",
    "\n",
    "# Unpack values for the linear regression fit:\n",
    "slope, intercept, r_value, p_value, slope_stg_error = stats.linregress(logV, M)\n",
    "\n",
    "# Calculate linear regression fit:\n",
    "predict_M = intercept + slope * logV\n",
    "pred_error = M - predict_M\n",
    "degrees_of_freedom = len(logV) - 2\n",
    "residual_std_error = np.sqrt(np.sum(pred_error**2) / degrees_of_freedom)\n",
    "\n",
    "# Plot results:\n",
    "plt.scatter(logV, M)\n",
    "plt.plot(logV, predict_M, \"k-\")\n",
    "plt.errorbar(logV, M, yerr=Merr, fmt='o') # Show error bars\n",
    "plt.xlabel(\"log(V) [km/s]\")\n",
    "plt.ylabel(\"$M_{B}$\")"
   ]
  }
 ],
 "metadata": {
  "kernelspec": {
   "display_name": "Python 2",
   "language": "python",
   "name": "python2"
  },
  "language_info": {
   "codemirror_mode": {
    "name": "ipython",
    "version": 2
   },
   "file_extension": ".py",
   "mimetype": "text/x-python",
   "name": "python",
   "nbconvert_exporter": "python",
   "pygments_lexer": "ipython2",
   "version": "2.7.11"
  }
 },
 "nbformat": 4,
 "nbformat_minor": 0
}
